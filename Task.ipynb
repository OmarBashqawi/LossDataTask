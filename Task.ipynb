{
 "cells": [
  {
   "cell_type": "code",
   "execution_count": 2,
   "metadata": {},
   "outputs": [],
   "source": [
    "import pandas as pd\n",
    "import numpy as np"
   ]
  },
  {
   "cell_type": "code",
   "execution_count": 3,
   "metadata": {},
   "outputs": [],
   "source": [
    "# Remove any line wrapping limit\n",
    "pd.set_option('display.width', 1000)"
   ]
  },
  {
   "cell_type": "code",
   "execution_count": 4,
   "metadata": {},
   "outputs": [
    {
     "name": "stdout",
     "output_type": "stream",
     "text": [
      "   Accident Month  Report Month   Total Loss\n",
      "0          202101        202112  1083.000000\n",
      "1          202102        202112  1019.000000\n",
      "2          202103        202112   912.000000\n",
      "3          202104        202112  1026.151930\n",
      "4          202105        202112  1030.272953\n"
     ]
    }
   ],
   "source": [
    "# Uploading the data\n",
    "df = pd.read_excel(\"Loss data.xlsx\")\n",
    "\n",
    "# info \n",
    "print(df.head())"
   ]
  },
  {
   "cell_type": "code",
   "execution_count": 5,
   "metadata": {},
   "outputs": [],
   "source": [
    "# Converting the first two Columns to datetime format\n",
    "df[\"Accident Month\"] = pd.to_datetime(df[\"Accident Month\"], format =\"%Y%m\")\n",
    "df[\"Report Month\"] = pd.to_datetime(df[\"Report Month\"], format=\"%Y%m\")\n"
   ]
  },
  {
   "cell_type": "code",
   "execution_count": 6,
   "metadata": {},
   "outputs": [],
   "source": [
    "# Calcualting Development year\n",
    "df[\"Development Month\"] = ((df[\"Report Month\"].dt.year - df[\"Accident Month\"].dt.year) * 12 + (df[\"Report Month\"].dt.month - df[\"Accident Month\"].dt.month))"
   ]
  },
  {
   "cell_type": "code",
   "execution_count": 7,
   "metadata": {},
   "outputs": [
    {
     "name": "stdout",
     "output_type": "stream",
     "text": [
      "Loss Triangle:\n",
      "Development Month     0       1      2       3        4        5        6        7        8       9       10      11\n",
      "Accident Month                                                                                                      \n",
      "2021-01-01         494.5  646.67  791.2  919.64  1004.72  1031.07  1000.99   966.75  1047.07  1058.0  1044.0  1083.0\n",
      "2021-02-01         466.5  664.67  792.0  809.82   988.68   885.44  1038.42   900.25   930.51  1076.0  1019.0     NaN\n",
      "2021-03-01         501.0  705.33  760.8  816.07   975.47  1051.46  1031.53   934.99  1026.15   912.0     NaN     NaN\n",
      "2021-04-01         450.0  696.67  732.0  897.32   879.25   895.15   960.59   968.73  1026.15     NaN     NaN     NaN\n",
      "2021-05-01         458.5  674.67  792.8  979.46  1006.60   912.62  1012.81  1030.27      NaN     NaN     NaN     NaN\n",
      "2021-06-01         476.0  668.00  791.2  903.57   879.25  1064.08   931.03      NaN      NaN     NaN     NaN     NaN\n",
      "2021-07-01         469.5  681.33  751.2  960.71   983.02   878.64      NaN      NaN      NaN     NaN     NaN     NaN\n",
      "2021-08-01         520.0  674.67  800.8  924.11  1012.26      NaN      NaN      NaN      NaN     NaN     NaN     NaN\n",
      "2021-09-01         507.5  698.67  722.4  854.46      NaN      NaN      NaN      NaN      NaN     NaN     NaN     NaN\n",
      "2021-10-01         474.5  722.67  734.4     NaN      NaN      NaN      NaN      NaN      NaN     NaN     NaN     NaN\n",
      "2021-11-01         528.0  650.00    NaN     NaN      NaN      NaN      NaN      NaN      NaN     NaN     NaN     NaN\n",
      "2021-12-01         550.0     NaN    NaN     NaN      NaN      NaN      NaN      NaN      NaN     NaN     NaN     NaN\n"
     ]
    }
   ],
   "source": [
    "triangle = df.pivot(index=\"Accident Month\", columns=\"Development Month\", values=\"Total Loss\")\n",
    "\n",
    "triangle = triangle.sort_index().round(2)\n",
    "\n",
    "print(\"Loss Triangle:\")\n",
    "print(triangle.head(12))"
   ]
  },
  {
   "cell_type": "code",
   "execution_count": 8,
   "metadata": {},
   "outputs": [
    {
     "name": "stdout",
     "output_type": "stream",
     "text": [
      "\n",
      "Cumulative Loss Triangle:\n",
      "Development Month     0        1        2        3        4        5        6        7        8        9         10        11\n",
      "Accident Month                                                                                                               \n",
      "2021-01-01         494.5  1141.17  1932.37  2852.01  3856.73  4887.80  5888.79  6855.54  7902.61  8960.61  10004.61  11087.61\n",
      "2021-02-01         466.5  1131.17  1923.17  2732.99  3721.67  4607.11  5645.53  6545.78  7476.29  8552.29   9571.29       NaN\n",
      "2021-03-01         501.0  1206.33  1967.13  2783.20  3758.67  4810.13  5841.66  6776.65  7802.80  8714.80       NaN       NaN\n",
      "2021-04-01         450.0  1146.67  1878.67  2775.99  3655.24  4550.39  5510.98  6479.71  7505.86      NaN       NaN       NaN\n",
      "2021-05-01         458.5  1133.17  1925.97  2905.43  3912.03  4824.65  5837.46  6867.73      NaN      NaN       NaN       NaN\n",
      "2021-06-01         476.0  1144.00  1935.20  2838.77  3718.02  4782.10  5713.13      NaN      NaN      NaN       NaN       NaN\n",
      "2021-07-01         469.5  1150.83  1902.03  2862.74  3845.76  4724.40      NaN      NaN      NaN      NaN       NaN       NaN\n",
      "2021-08-01         520.0  1194.67  1995.47  2919.58  3931.84      NaN      NaN      NaN      NaN      NaN       NaN       NaN\n",
      "2021-09-01         507.5  1206.17  1928.57  2783.03      NaN      NaN      NaN      NaN      NaN      NaN       NaN       NaN\n",
      "2021-10-01         474.5  1197.17  1931.57      NaN      NaN      NaN      NaN      NaN      NaN      NaN       NaN       NaN\n",
      "2021-11-01         528.0  1178.00      NaN      NaN      NaN      NaN      NaN      NaN      NaN      NaN       NaN       NaN\n",
      "2021-12-01         550.0      NaN      NaN      NaN      NaN      NaN      NaN      NaN      NaN      NaN       NaN       NaN\n"
     ]
    }
   ],
   "source": [
    "# converting to cumualtive to use chaining lader method\n",
    "def incremental_to_cumulative(triangle):\n",
    "\n",
    "  cumulative_triangle = triangle.copy()\n",
    "  for dev_month in cumulative_triangle.columns[1:]:\n",
    "    cumulative_triangle[dev_month] = cumulative_triangle[dev_month] + cumulative_triangle[dev_month - 1]\n",
    "  return cumulative_triangle\n",
    "\n",
    "\n",
    "cumulative_triangle = incremental_to_cumulative(triangle)\n",
    "print(\"\\nCumulative Loss Triangle:\")\n",
    "print(cumulative_triangle.head(12))\n"
   ]
  },
  {
   "cell_type": "code",
   "execution_count": 9,
   "metadata": {},
   "outputs": [
    {
     "name": "stdout",
     "output_type": "stream",
     "text": [
      "\n",
      "Link Ratios:\n",
      "[1.4, 1.12, 1.16, 1.07, 1.0, 1.02, 0.95, 1.07, 1.01, 0.97, 1.04]\n"
     ]
    }
   ],
   "source": [
    "# calcualte the link ratio\n",
    "\n",
    "link_ratios = []\n",
    "max_dev = triangle.shape[1]\n",
    "\n",
    "for col in range(max_dev - 1):\n",
    "  current_col =triangle.iloc[:, col]\n",
    "  next_col = triangle.iloc[:, col+1]\n",
    "\n",
    "  vaild = current_col.notna() & next_col.notna()\n",
    "  ratio = next_col[vaild].sum() / current_col[vaild].sum()\n",
    "\n",
    "  link_ratios.append(ratio)\n",
    "\n",
    "print(\"\\nLink Ratios:\")\n",
    "print([round(float(r), 2) for r in link_ratios])\n",
    "\n"
   ]
  },
  {
   "cell_type": "code",
   "execution_count": 10,
   "metadata": {},
   "outputs": [
    {
     "name": "stdout",
     "output_type": "stream",
     "text": [
      "Development Month     0        1        2        3        4        5        6        7        8        9         10        11\n",
      "Accident Month                                                                                                               \n",
      "2021-01-01         494.5  1141.17  1932.37  2852.01  3856.73  4887.80  5888.79  6855.54  7902.61  8960.61  10004.61  11087.61\n",
      "2021-02-01         466.5  1131.17  1923.17  2732.99  3721.67  4607.11  5645.53  6545.78  7476.29  8552.29   9571.29   9928.84\n",
      "2021-03-01         501.0  1206.33  1967.13  2783.20  3758.67  4810.13  5841.66  6776.65  7802.80  8714.80   8424.85   8739.57\n",
      "2021-04-01         450.0  1146.67  1878.67  2775.99  3655.24  4550.39  5510.98  6479.71  7505.86  7611.49   7358.25   7633.12\n",
      "2021-05-01         458.5  1133.17  1925.97  2905.43  3912.03  4824.65  5837.46  6867.73  7339.75  7443.03   7195.40   7464.19\n",
      "2021-06-01         476.0  1144.00  1935.20  2838.77  3718.02  4782.10  5713.13  5437.52  5811.23  5893.01   5696.95   5909.76\n",
      "2021-07-01         469.5  1150.83  1902.03  2862.74  3845.76  4724.40  4834.06  4600.85  4917.07  4986.26   4820.37   5000.44\n",
      "2021-08-01         520.0  1194.67  1995.47  2919.58  3931.84  3932.70  4023.98  3829.86  4093.08  4150.68   4012.59   4162.48\n",
      "2021-09-01         507.5  1206.17  1928.57  2783.03  2983.17  2983.82  3053.08  2905.79  3105.51  3149.21   3044.43   3158.16\n",
      "2021-10-01         474.5  1197.17  1931.57  2246.54  2408.10  2408.63  2464.53  2345.64  2506.85  2542.13   2457.55   2549.36\n",
      "2021-11-01         528.0  1178.00  1322.02  1537.60  1648.17  1648.53  1686.80  1605.42  1715.76  1739.91   1682.02   1744.86\n",
      "2021-12-01         550.0   769.89   864.02  1004.91  1077.18  1077.41  1102.42  1049.24  1121.35  1137.13   1099.30   1140.37\n"
     ]
    }
   ],
   "source": [
    "# using Chain ladder method\n",
    "\n",
    "projected_triangle = cumulative_triangle.copy()\n",
    "\n",
    "for i in range(projected_triangle.shape[0]):\n",
    "  for j in range(projected_triangle.shape[1]):\n",
    "    if pd.isna(projected_triangle.iat[i, j]):\n",
    "      if j == 0:\n",
    "        continue\n",
    "\n",
    "      prev_value = projected_triangle.iat[i, j-1]\n",
    "      projected_value = prev_value * link_ratios[j-1]\n",
    "      projected_triangle.iat[i, j] = projected_value\n",
    "\n",
    "print(projected_triangle.round(2))"
   ]
  },
  {
   "cell_type": "code",
   "execution_count": 11,
   "metadata": {},
   "outputs": [
    {
     "name": "stdout",
     "output_type": "stream",
     "text": [
      "\n",
      "Estimated IBNR: 457406.48\n"
     ]
    }
   ],
   "source": [
    "# Estimate IBNR\n",
    "reported_claims = np.nansum(triangle.values)\n",
    "ultimate_claims = projected_triangle.values.sum()\n",
    "ibnr = ultimate_claims - reported_claims\n",
    "\n",
    "print(f\"\\nEstimated IBNR: {ibnr:.2f}\")"
   ]
  }
 ],
 "metadata": {
  "kernelspec": {
   "display_name": "Python 3",
   "language": "python",
   "name": "python3"
  },
  "language_info": {
   "codemirror_mode": {
    "name": "ipython",
    "version": 3
   },
   "file_extension": ".py",
   "mimetype": "text/x-python",
   "name": "python",
   "nbconvert_exporter": "python",
   "pygments_lexer": "ipython3",
   "version": "3.13.1"
  }
 },
 "nbformat": 4,
 "nbformat_minor": 2
}
